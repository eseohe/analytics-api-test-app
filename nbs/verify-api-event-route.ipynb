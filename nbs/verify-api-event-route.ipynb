{
 "cells": [
  {
   "cell_type": "code",
   "execution_count": null,
   "id": "initial_id",
   "metadata": {
    "collapsed": true
   },
   "outputs": [],
   "source": [
    ""
   ]
  },
  {
   "metadata": {
    "ExecuteTime": {
     "end_time": "2025-06-21T15:01:44.757320Z",
     "start_time": "2025-06-21T15:01:44.084703Z"
    }
   },
   "cell_type": "code",
   "source": "import requests",
   "id": "a3f0c80ac357679e",
   "outputs": [],
   "execution_count": 1
  },
  {
   "metadata": {
    "ExecuteTime": {
     "end_time": "2025-06-21T15:30:20.596824Z",
     "start_time": "2025-06-21T15:30:20.577430Z"
    }
   },
   "cell_type": "code",
   "source": [
    "path = \"/api/events/\"\n",
    "base_url = \"http://localhost:8002\"\n",
    "endpoint = f\"{base_url}{path}\"\n",
    "endpoint"
   ],
   "id": "15c4041c2a96b50f",
   "outputs": [
    {
     "data": {
      "text/plain": [
       "'http://localhost:8002/api/events/'"
      ]
     },
     "execution_count": 11,
     "metadata": {},
     "output_type": "execute_result"
    }
   ],
   "execution_count": 11
  },
  {
   "metadata": {},
   "cell_type": "markdown",
   "source": "",
   "id": "709777fb3b3e6ac0"
  },
  {
   "metadata": {
    "ExecuteTime": {
     "end_time": "2025-06-21T15:30:22.664395Z",
     "start_time": "2025-06-21T15:30:22.625604Z"
    }
   },
   "cell_type": "code",
   "source": "response = requests.get(endpoint)",
   "id": "e7baac03d5363354",
   "outputs": [],
   "execution_count": 12
  },
  {
   "metadata": {
    "ExecuteTime": {
     "end_time": "2025-06-21T15:30:24.890741Z",
     "start_time": "2025-06-21T15:30:24.882683Z"
    }
   },
   "cell_type": "code",
   "source": "print(response.ok)",
   "id": "f76a928de3b70196",
   "outputs": [
    {
     "name": "stdout",
     "output_type": "stream",
     "text": [
      "True\n"
     ]
    }
   ],
   "execution_count": 13
  },
  {
   "metadata": {
    "ExecuteTime": {
     "end_time": "2025-06-21T15:35:57.320598Z",
     "start_time": "2025-06-21T15:35:57.313162Z"
    }
   },
   "cell_type": "code",
   "source": [
    "if response.ok:\n",
    "    data = response.json()\n",
    "    print(data)"
   ],
   "id": "68c820f69c39436b",
   "outputs": [
    {
     "name": "stdout",
     "output_type": "stream",
     "text": [
      "{'results': [{'id': 1}, {'id': 2}]}\n"
     ]
    }
   ],
   "execution_count": 14
  },
  {
   "metadata": {
    "ExecuteTime": {
     "end_time": "2025-06-21T15:19:09.615988Z",
     "start_time": "2025-06-21T15:19:09.535487Z"
    }
   },
   "cell_type": "code",
   "source": [
    "path = \"/api/events/12\"\n",
    "base_url = \"http://localhost:8002\"\n",
    "endpoint = f\"{base_url}{path}\"\n",
    "response = requests.get(endpoint)\n",
    "print(response.ok)"
   ],
   "id": "cd9f09dcdfeee2f0",
   "outputs": [
    {
     "name": "stdout",
     "output_type": "stream",
     "text": [
      "True\n"
     ]
    }
   ],
   "execution_count": 9
  },
  {
   "metadata": {},
   "cell_type": "code",
   "outputs": [],
   "execution_count": null,
   "source": "",
   "id": "f64fa49b6349025f"
  }
 ],
 "metadata": {
  "kernelspec": {
   "display_name": "Python 3",
   "language": "python",
   "name": "python3"
  },
  "language_info": {
   "codemirror_mode": {
    "name": "ipython",
    "version": 2
   },
   "file_extension": ".py",
   "mimetype": "text/x-python",
   "name": "python",
   "nbconvert_exporter": "python",
   "pygments_lexer": "ipython2",
   "version": "2.7.6"
  }
 },
 "nbformat": 4,
 "nbformat_minor": 5
}
